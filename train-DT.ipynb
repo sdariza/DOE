{
 "cells": [
  {
   "cell_type": "code",
   "execution_count": 1,
   "id": "006ebbbf",
   "metadata": {},
   "outputs": [],
   "source": [
    "#train\n",
    "import numpy as np\n",
    "from sklearn.multioutput import MultiOutputRegressor\n",
    "from sklearn.tree import DecisionTreeRegressor\n",
    "from sklearn.metrics import mean_absolute_error, mean_absolute_percentage_error\n",
    "from sklearn.model_selection import GridSearchCV"
   ]
  },
  {
   "cell_type": "code",
   "execution_count": 2,
   "id": "4e4cea22",
   "metadata": {},
   "outputs": [
    {
     "data": {
      "text/plain": [
       "array([[297.3    , 297.71   , 297.59998, ..., 298.3    , 298.9    ,\n",
       "        300.09998],\n",
       "       [298.09998, 298.     , 298.21   , ..., 297.81   , 299.59998,\n",
       "        301.5    ],\n",
       "       [298.8    , 299.     , 299.21   , ..., 299.3    , 299.9    ,\n",
       "        301.     ],\n",
       "       ...,\n",
       "       [298.9    , 299.1    , 299.3    , ..., 300.1    , 299.3    ,\n",
       "        299.5    ],\n",
       "       [299.6    , 300.2    , 300.2    , ..., 298.9    , 298.3    ,\n",
       "        298.5    ],\n",
       "       [300.4    , 300.4    , 300.2    , ..., 299.30002, 299.30002,\n",
       "        300.1    ]], dtype=float32)"
      ]
     },
     "execution_count": 2,
     "metadata": {},
     "output_type": "execute_result"
    }
   ],
   "source": [
    "X = np.load('np-array-h0.npy')\n",
    "X"
   ]
  },
  {
   "cell_type": "code",
   "execution_count": 3,
   "id": "70310bbe",
   "metadata": {},
   "outputs": [
    {
     "data": {
      "text/plain": [
       "array([[298.     , 298.3    , 298.09998, ..., 297.21   , 297.8    ,\n",
       "        298.4    ],\n",
       "       [298.     , 298.31   , 298.4    , ..., 296.71   , 297.59998,\n",
       "        298.59998],\n",
       "       [298.09998, 298.5    , 298.8    , ..., 298.7    , 299.2    ,\n",
       "        300.09998],\n",
       "       ...,\n",
       "       [299.     , 299.80002, 300.     , ..., 298.1    , 297.6    ,\n",
       "        297.5    ],\n",
       "       [299.9    , 300.4    , 300.2    , ..., 297.1    , 296.9    ,\n",
       "        297.1    ],\n",
       "       [300.19998, 300.5    , 300.1    , ..., 296.69998, 297.     ,\n",
       "        297.5    ]], dtype=float32)"
      ]
     },
     "execution_count": 3,
     "metadata": {},
     "output_type": "execute_result"
    }
   ],
   "source": [
    "Y = np.load('np-array-h6.npy')\n",
    "Y"
   ]
  },
  {
   "cell_type": "code",
   "execution_count": 63,
   "id": "d497c2a3",
   "metadata": {},
   "outputs": [
    {
     "data": {
      "text/plain": [
       "array([[300.125 , 300.3125, 300.375 , ..., 298.    , 298.1875, 299.1875],\n",
       "       [300.1875, 300.125 , 299.8125, ..., 297.1875, 297.6875, 299.1875],\n",
       "       [299.5   , 299.125 , 299.3125, ..., 297.8125, 298.125 , 299.125 ],\n",
       "       ...,\n",
       "       [301.    , 300.3125, 300.875 , ..., 299.125 , 300.    , 300.8125],\n",
       "       [301.125 , 300.875 , 301.3125, ..., 299.8125, 300.8125, 301.375 ],\n",
       "       [301.125 , 300.8125, 301.125 , ..., 299.1875, 299.5   , 299.8125]],\n",
       "      dtype=float32)"
      ]
     },
     "execution_count": 63,
     "metadata": {},
     "output_type": "execute_result"
    }
   ],
   "source": [
    "X_test = np.load('np-array-h0-2023.npy')\n",
    "X_test"
   ]
  },
  {
   "cell_type": "code",
   "execution_count": 67,
   "id": "faf80a3f",
   "metadata": {},
   "outputs": [
    {
     "data": {
      "text/plain": [
       "array([[300.5   , 301.1875, 301.    , ..., 297.3125, 297.3125, 297.6875],\n",
       "       [299.8125, 299.875 , 299.375 , ..., 296.8125, 297.125 , 298.125 ],\n",
       "       [298.875 , 299.1875, 299.125 , ..., 296.875 , 297.3125, 298.125 ],\n",
       "       ...,\n",
       "       [300.375 , 300.5   , 301.    , ..., 298.3125, 299.    , 299.1875],\n",
       "       [300.875 , 301.    , 301.125 , ..., 297.5   , 298.1875, 298.875 ],\n",
       "       [300.625 , 300.5   , 300.625 , ..., 299.    , 299.5   , 299.3125]],\n",
       "      dtype=float32)"
      ]
     },
     "execution_count": 67,
     "metadata": {},
     "output_type": "execute_result"
    }
   ],
   "source": [
    "Y_test = np.load('np-array-h6-2023.npy')\n",
    "Y_test"
   ]
  },
  {
   "cell_type": "code",
   "execution_count": 11,
   "id": "0c776fbd",
   "metadata": {},
   "outputs": [],
   "source": [
    "# Definir los hiperparámetros a ajustar\n",
    "param_grid_DT = {\n",
    "    'estimator__criterion': ['squared_error','friedman_mse', 'absolute_error', 'poisson'],\n",
    "    'estimator__splitter': ['best', 'random'],\n",
    "    'estimator__max_depth': [None,10, 20, 30],\n",
    "    'estimator__min_samples_split':[2,4,6],\n",
    "    'estimator__min_samples_leaf': [1,2,3],\n",
    "}\n"
   ]
  },
  {
   "cell_type": "code",
   "execution_count": 12,
   "id": "54aa83ea",
   "metadata": {},
   "outputs": [],
   "source": [
    "# Crear el modelo\n",
    "model = MultiOutputRegressor(DecisionTreeRegressor())\n",
    "# Realizar GridSearchCV\n",
    "grid_search = GridSearchCV(model, param_grid_DT, cv=5, scoring='neg_mean_absolute_error')\n",
    "grid_search.fit(X, Y)\n",
    "\n",
    "# Obtener los mejores hiperparámetros y el mejor modelo\n",
    "best_params = grid_search.best_params_\n",
    "best_model = grid_search.best_estimator_"
   ]
  },
  {
   "cell_type": "code",
   "execution_count": 13,
   "id": "cbf1617f",
   "metadata": {},
   "outputs": [
    {
     "data": {
      "text/plain": [
       "{'estimator__criterion': 'squared_error',\n",
       " 'estimator__max_depth': 10,\n",
       " 'estimator__min_samples_leaf': 3,\n",
       " 'estimator__min_samples_split': 4,\n",
       " 'estimator__splitter': 'random'}"
      ]
     },
     "execution_count": 13,
     "metadata": {},
     "output_type": "execute_result"
    }
   ],
   "source": [
    "best_params"
   ]
  }
 ],
 "metadata": {
  "kernelspec": {
   "display_name": "Python 3 (ipykernel)",
   "language": "python",
   "name": "python3"
  },
  "language_info": {
   "codemirror_mode": {
    "name": "ipython",
    "version": 3
   },
   "file_extension": ".py",
   "mimetype": "text/x-python",
   "name": "python",
   "nbconvert_exporter": "python",
   "pygments_lexer": "ipython3",
   "version": "3.10.11"
  }
 },
 "nbformat": 4,
 "nbformat_minor": 5
}
