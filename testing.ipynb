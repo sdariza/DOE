{
 "cells": [
  {
   "cell_type": "code",
   "execution_count": 6,
   "id": "2064725f",
   "metadata": {},
   "outputs": [],
   "source": [
    "import numpy as np\n",
    "from sklearn.multioutput import MultiOutputRegressor\n",
    "from sklearn.linear_model import LinearRegression\n",
    "from sklearn.ensemble import RandomForestRegressor\n",
    "from sklearn.tree import DecisionTreeRegressor\n",
    "from sklearn.neighbors import KNeighborsRegressor\n",
    "from sklearn.metrics import mean_absolute_error, mean_absolute_percentage_error\n",
    "from sklearn.model_selection import GridSearchCV"
   ]
  },
  {
   "cell_type": "code",
   "execution_count": 2,
   "id": "f98a3f02",
   "metadata": {},
   "outputs": [],
   "source": [
    "X = np.load('np-array-h0.npy')\n",
    "Y = np.load('np-array-h6.npy')\n",
    "X_test = np.load('np-array-h0-2023.npy')\n",
    "Y_test = np.load('np-array-h6-2023.npy')"
   ]
  },
  {
   "cell_type": "markdown",
   "id": "ca4b938f",
   "metadata": {},
   "source": [
    "# No tuning"
   ]
  },
  {
   "cell_type": "code",
   "execution_count": 3,
   "id": "ca5f8816",
   "metadata": {},
   "outputs": [
    {
     "name": "stdout",
     "output_type": "stream",
     "text": [
      "R^2: 0.5665391437294972\n",
      "MAE: 0.5008983016014099\n",
      "MAPE: 0.0016757517587393522\n"
     ]
    }
   ],
   "source": [
    "LR = MultiOutputRegressor(LinearRegression())\n",
    "LR.fit(X,Y)\n",
    "print(f'R^2: {LR.score(X_test,Y_test)}')\n",
    "print(f'MAE: {mean_absolute_error(Y_test,LR.predict(X_test))}')\n",
    "print(f'MAPE: {mean_absolute_percentage_error(Y_test,LR.predict(X_test))}')"
   ]
  },
  {
   "cell_type": "code",
   "execution_count": 7,
   "id": "93539e2e",
   "metadata": {},
   "outputs": [
    {
     "name": "stdout",
     "output_type": "stream",
     "text": [
      "R^2: 0.5670968634005283\n",
      "MAE: 0.5019145787708343\n",
      "MAPE: 0.0016794237840225493\n"
     ]
    }
   ],
   "source": [
    "RF = MultiOutputRegressor(RandomForestRegressor(n_jobs=-1))\n",
    "RF.fit(X,Y)\n",
    "print(f'R^2: {RF.score(X_test,Y_test)}')\n",
    "print(f'MAE: {mean_absolute_error(Y_test,RF.predict(X_test))}')\n",
    "print(f'MAPE: {mean_absolute_percentage_error(Y_test,RF.predict(X_test))}')"
   ]
  },
  {
   "cell_type": "code",
   "execution_count": 8,
   "id": "b693b005",
   "metadata": {},
   "outputs": [
    {
     "name": "stdout",
     "output_type": "stream",
     "text": [
      "R^2: 0.38619797489725133\n",
      "MAE: 0.5971375107765198\n",
      "MAPE: 0.0019977844785898924\n"
     ]
    }
   ],
   "source": [
    "KNN = MultiOutputRegressor(KNeighborsRegressor())\n",
    "KNN.fit(X,Y)\n",
    "print(f'R^2: {KNN.score(X_test,Y_test)}')\n",
    "print(f'MAE: {mean_absolute_error(Y_test,KNN.predict(X_test))}')\n",
    "print(f'MAPE: {mean_absolute_percentage_error(Y_test,KNN.predict(X_test))}')"
   ]
  },
  {
   "cell_type": "code",
   "execution_count": 9,
   "id": "550d5ec2",
   "metadata": {},
   "outputs": [
    {
     "name": "stdout",
     "output_type": "stream",
     "text": [
      "R^2: 0.14707454217028645\n",
      "MAE: 0.7016523588271368\n",
      "MAPE: 0.0023476242051652494\n"
     ]
    }
   ],
   "source": [
    "DT = MultiOutputRegressor(DecisionTreeRegressor())\n",
    "DT.fit(X,Y)\n",
    "print(f'R^2: {DT.score(X_test,Y_test)}')\n",
    "print(f'MAE: {mean_absolute_error(Y_test,DT.predict(X_test))}')\n",
    "print(f'MAPE: {mean_absolute_percentage_error(Y_test,DT.predict(X_test))}')"
   ]
  },
  {
   "cell_type": "markdown",
   "id": "5dcdbc22",
   "metadata": {},
   "source": [
    "# Tunning"
   ]
  },
  {
   "cell_type": "code",
   "execution_count": 12,
   "id": "b8a4eb91",
   "metadata": {},
   "outputs": [
    {
     "name": "stdout",
     "output_type": "stream",
     "text": [
      "R^2: 0.5665391437294972\n",
      "MAE: 0.5008983016014099\n",
      "MAPE: 0.0016757517587393522\n"
     ]
    }
   ],
   "source": [
    "LR_T = MultiOutputRegressor(LinearRegression(copy_X=True, fit_intercept=True, positive=False))\n",
    "LR_T.fit(X,Y)\n",
    "print(f'R^2: {LR.score(X_test,Y_test)}')\n",
    "print(f'MAE: {mean_absolute_error(Y_test,LR_T.predict(X_test))}')\n",
    "print(f'MAPE: {mean_absolute_percentage_error(Y_test,LR_T.predict(X_test))}')"
   ]
  },
  {
   "cell_type": "code",
   "execution_count": 142,
   "id": "847f8294",
   "metadata": {},
   "outputs": [
    {
     "name": "stdout",
     "output_type": "stream",
     "text": [
      "R^2: 0.5719131441700631\n",
      "MAE: 0.4990948318161503\n",
      "MAPE: 0.0016699927727830018\n"
     ]
    }
   ],
   "source": [
    "RF_T = MultiOutputRegressor(RandomForestRegressor(n_jobs=-1, n_estimators=200, max_features=30, min_samples_leaf=3, criterion='friedman_mse' ))\n",
    "RF_T.fit(X,Y)\n",
    "print(f'R^2: {RF_T.score(X_test,Y_test)}')\n",
    "print(f'MAE: {mean_absolute_error(Y_test,RF_T.predict(X_test))}')\n",
    "print(f'MAPE: {mean_absolute_percentage_error(Y_test,RF_T.predict(X_test))}')"
   ]
  },
  {
   "cell_type": "code",
   "execution_count": 10,
   "id": "d5dee25f",
   "metadata": {},
   "outputs": [
    {
     "name": "stdout",
     "output_type": "stream",
     "text": [
      "R^2: 0.41973497645117364\n",
      "MAE: 0.580835492674114\n",
      "MAPE: 0.0019429772568749228\n"
     ]
    }
   ],
   "source": [
    "KNN_T = MultiOutputRegressor(KNeighborsRegressor(algorithm='ball_tree', leaf_size=25, metric='euclidean', n_neighbors=13, p=1, weights='distance'))\n",
    "KNN_T.fit(X,Y)\n",
    "print(f'R^2: {KNN_T.score(X_test,Y_test)}')\n",
    "print(f'MAE: {mean_absolute_error(Y_test,KNN_T.predict(X_test))}')\n",
    "print(f'MAPE: {mean_absolute_percentage_error(Y_test,KNN_T.predict(X_test))}')"
   ]
  },
  {
   "cell_type": "code",
   "execution_count": 11,
   "id": "675c07cf",
   "metadata": {},
   "outputs": [
    {
     "name": "stdout",
     "output_type": "stream",
     "text": [
      "R^2: 0.35619771202959416\n",
      "MAE: 0.6137887485632039\n",
      "MAPE: 0.0020535893532511555\n"
     ]
    }
   ],
   "source": [
    "DT_T = MultiOutputRegressor(DecisionTreeRegressor(criterion='squared_error',max_depth=10, min_samples_leaf=3, min_samples_split=4, splitter='random'))\n",
    "DT_T.fit(X,Y)\n",
    "print(f'R^2: {DT_T.score(X_test,Y_test)}')\n",
    "print(f'MAE: {mean_absolute_error(Y_test,DT_T.predict(X_test))}')\n",
    "print(f'MAPE: {mean_absolute_percentage_error(Y_test,DT_T.predict(X_test))}')"
   ]
  },
  {
   "cell_type": "code",
   "execution_count": 74,
   "id": "3447aa05",
   "metadata": {},
   "outputs": [
    {
     "data": {
      "text/plain": [
       "array([[  7.5, 280. ],\n",
       "       [ -2.5, 290. ],\n",
       "       [ 10. , 280. ],\n",
       "       [  5. , 295. ],\n",
       "       [  0. , 285. ]], dtype=float32)"
      ]
     },
     "execution_count": 74,
     "metadata": {},
     "output_type": "execute_result"
    }
   ],
   "source": [
    "latitudes = np.array([12.5, 10. ,  7.5 , 5.  , 2.5 , 0.,  -2.5 ,-5. ]).astype(np.float32)\n",
    "longitudes = np.array([280.0, 282.5, 285.0, 287.5, 290.0, 292.5, 295.0]).astype(np.float32)\n",
    "lats, lons = np.meshgrid(latitudes, longitudes)\n",
    "points = np.vstack((lats.flatten(), lons.flatten())).T\n",
    "points_selected = points[np.random.choice(len(points), 5, replace=False)]\n",
    "points_selected"
   ]
  },
  {
   "cell_type": "code",
   "execution_count": 115,
   "id": "8d7754a9",
   "metadata": {},
   "outputs": [],
   "source": [
    "def select_points(points):\n",
    "    return points[np.random.choice(len(points), 5, replace=False)]"
   ]
  },
  {
   "cell_type": "code",
   "execution_count": 133,
   "id": "3562902c",
   "metadata": {},
   "outputs": [],
   "source": [
    "def get_selected_points_indx(selected_points, points):\n",
    "    inde = []\n",
    "    for point_selected in selected_points:\n",
    "        condition_array = np.array(point_selected)\n",
    "        # Find indices where the matrix matches the condition\n",
    "        inde.append(np.where(np.all(points == condition_array, axis=1))[0][0])\n",
    "    return inde"
   ]
  },
  {
   "cell_type": "code",
   "execution_count": 76,
   "id": "d87a6d5a",
   "metadata": {},
   "outputs": [
    {
     "data": {
      "text/plain": [
       "[2, 38, 1, 51, 21]"
      ]
     },
     "execution_count": 76,
     "metadata": {},
     "output_type": "execute_result"
    }
   ],
   "source": [
    "inde = []\n",
    "for point_selected in points_selected:\n",
    "    condition_array = np.array(point_selected)\n",
    "    # Find indices where the matrix matches the condition\n",
    "    inde.append(np.where(np.all(points == condition_array, axis=1))[0][0])\n",
    "inde"
   ]
  },
  {
   "cell_type": "code",
   "execution_count": 77,
   "id": "4bc93870",
   "metadata": {},
   "outputs": [
    {
     "data": {
      "text/plain": [
       "array([297.59998, 298.09998, 297.71   , 300.59998, 297.8    ],\n",
       "      dtype=float32)"
      ]
     },
     "execution_count": 77,
     "metadata": {},
     "output_type": "execute_result"
    }
   ],
   "source": [
    "X[0][inde]"
   ]
  },
  {
   "cell_type": "code",
   "execution_count": 123,
   "id": "1fc135a1",
   "metadata": {},
   "outputs": [],
   "source": []
  },
  {
   "cell_type": "code",
   "execution_count": 73,
   "id": "6228708f",
   "metadata": {},
   "outputs": [
    {
     "data": {
      "text/plain": [
       "24"
      ]
     },
     "execution_count": 73,
     "metadata": {},
     "output_type": "execute_result"
    }
   ],
   "source": [
    "N = 4 * 2 * 3\n",
    "N"
   ]
  },
  {
   "cell_type": "code",
   "execution_count": 78,
   "id": "8a327cb3",
   "metadata": {},
   "outputs": [
    {
     "data": {
      "text/plain": [
       "(120, 56)"
      ]
     },
     "execution_count": 78,
     "metadata": {},
     "output_type": "execute_result"
    }
   ],
   "source": [
    "X_test.shape"
   ]
  },
  {
   "cell_type": "code",
   "execution_count": 85,
   "id": "930f5b93",
   "metadata": {},
   "outputs": [
    {
     "data": {
      "text/plain": [
       "array([ 90,  89,  81, 109,  67,  52,  98,  91, 113,  66,  96,  77,  98,\n",
       "       112, 103,  26,  26,  82,  67, 116,  56,  69,  40,  23])"
      ]
     },
     "execution_count": 85,
     "metadata": {},
     "output_type": "execute_result"
    }
   ],
   "source": [
    "days = np.random.choice(len(X_test), 24)\n",
    "days"
   ]
  },
  {
   "cell_type": "code",
   "execution_count": 111,
   "id": "11e82bfe",
   "metadata": {},
   "outputs": [],
   "source": [
    "del select_points"
   ]
  },
  {
   "cell_type": "code",
   "execution_count": 145,
   "id": "2975cd0b",
   "metadata": {},
   "outputs": [],
   "source": [
    "list_pd = []"
   ]
  },
  {
   "cell_type": "code",
   "execution_count": 146,
   "id": "895b1d3a",
   "metadata": {},
   "outputs": [
    {
     "name": "stdout",
     "output_type": "stream",
     "text": [
      "No\n",
      "error LR: 0.509082019329071\n",
      "error RF: 0.3399773559570122\n",
      "error DT: 0.850006103515625\n",
      "error KNN: 0.7268005609512329\n",
      "Sí\n",
      "error LR_T: 0.509082019329071\n",
      "error RF_T: 0.3399773559570122\n",
      "error DT_T: 0.850006103515625\n",
      "error KNN_T: 0.7268005609512329\n",
      "****************************\n",
      "No\n",
      "error LR: 0.5725036859512329\n",
      "error RF: 0.3041829223632817\n",
      "error DT: 0.835009765625\n",
      "error KNN: 0.3562072813510895\n",
      "Sí\n",
      "error LR_T: 0.5725036859512329\n",
      "error RF_T: 0.3041829223632817\n",
      "error DT_T: 0.835009765625\n",
      "error KNN_T: 0.3562072813510895\n",
      "****************************\n",
      "No\n",
      "error LR: 0.4940185546875\n",
      "error RF: 0.5769204711914085\n",
      "error DT: 1.04500732421875\n",
      "error KNN: 0.47800904512405396\n",
      "Sí\n",
      "error LR_T: 0.4940185546875\n",
      "error RF_T: 0.5769204711914085\n",
      "error DT_T: 1.04500732421875\n",
      "error KNN_T: 0.47800904512405396\n",
      "****************************\n",
      "No\n",
      "error LR: 0.578387439250946\n",
      "error RF: 0.498681640625\n",
      "error DT: 1.029498291015625\n",
      "error KNN: 0.639910876750946\n",
      "Sí\n",
      "error LR_T: 0.578387439250946\n",
      "error RF_T: 0.498681640625\n",
      "error DT_T: 1.029498291015625\n",
      "error KNN_T: 0.639910876750946\n",
      "****************************\n",
      "No\n",
      "error LR: 0.26442259550094604\n",
      "error RF: 0.4286213989257931\n",
      "error DT: 0.46749267578125\n",
      "error KNN: 0.33050537109375\n",
      "Sí\n",
      "error LR_T: 0.26442259550094604\n",
      "error RF_T: 0.4286213989257931\n",
      "error DT_T: 0.46749267578125\n",
      "error KNN_T: 0.33050537109375\n",
      "****************************\n",
      "No\n",
      "error LR: 0.368743896484375\n",
      "error RF: 0.4137576293945358\n",
      "error DT: 0.88250732421875\n",
      "error KNN: 0.3324951231479645\n",
      "Sí\n",
      "error LR_T: 0.368743896484375\n",
      "error RF_T: 0.4137576293945358\n",
      "error DT_T: 0.88250732421875\n",
      "error KNN_T: 0.3324951231479645\n",
      "****************************\n",
      "No\n",
      "error LR: 0.579510509967804\n",
      "error RF: 0.3686788940429665\n",
      "error DT: 0.502496337890625\n",
      "error KNN: 0.6192992925643921\n",
      "Sí\n",
      "error LR_T: 0.579510509967804\n",
      "error RF_T: 0.3686788940429665\n",
      "error DT_T: 0.502496337890625\n",
      "error KNN_T: 0.6192992925643921\n",
      "****************************\n",
      "No\n",
      "error LR: 0.199188232421875\n",
      "error RF: 0.2368401489257735\n",
      "error DT: 0.552508544921875\n",
      "error KNN: 0.3638977110385895\n",
      "Sí\n",
      "error LR_T: 0.199188232421875\n",
      "error RF_T: 0.2368401489257735\n",
      "error DT_T: 0.552508544921875\n",
      "error KNN_T: 0.3638977110385895\n",
      "****************************\n",
      "No\n",
      "error LR: 0.269989013671875\n",
      "error RF: 0.15115948486327396\n",
      "error DT: 0.5094970703125\n",
      "error KNN: 0.18810424208641052\n",
      "Sí\n",
      "error LR_T: 0.269989013671875\n",
      "error RF_T: 0.15115948486327396\n",
      "error DT_T: 0.5094970703125\n",
      "error KNN_T: 0.18810424208641052\n",
      "****************************\n",
      "No\n",
      "error LR: 0.537445068359375\n",
      "error RF: 0.5150019531249995\n",
      "error DT: 0.720001220703125\n",
      "error KNN: 0.48759764432907104\n",
      "Sí\n",
      "error LR_T: 0.537445068359375\n",
      "error RF_T: 0.5150019531249995\n",
      "error DT_T: 0.720001220703125\n",
      "error KNN_T: 0.48759764432907104\n",
      "****************************\n",
      "No\n",
      "error LR: 0.4240356385707855\n",
      "error RF: 0.5923786621093882\n",
      "error DT: 1.004498291015625\n",
      "error KNN: 0.7489013671875\n",
      "Sí\n",
      "error LR_T: 0.4240356385707855\n",
      "error RF_T: 0.5923786621093882\n",
      "error DT_T: 1.004498291015625\n",
      "error KNN_T: 0.7489013671875\n",
      "****************************\n",
      "No\n",
      "error LR: 0.45070189237594604\n",
      "error RF: 0.34495806884765445\n",
      "error DT: 0.8280029296875\n",
      "error KNN: 0.5549987554550171\n",
      "Sí\n",
      "error LR_T: 0.45070189237594604\n",
      "error RF_T: 0.34495806884765445\n",
      "error DT_T: 0.8280029296875\n",
      "error KNN_T: 0.5549987554550171\n",
      "****************************\n",
      "No\n",
      "error LR: 0.37678223848342896\n",
      "error RF: 0.3803818969726535\n",
      "error DT: 0.647515869140625\n",
      "error KNN: 0.581494152545929\n",
      "Sí\n",
      "error LR_T: 0.37678223848342896\n",
      "error RF_T: 0.3803818969726535\n",
      "error DT_T: 0.647515869140625\n",
      "error KNN_T: 0.581494152545929\n",
      "****************************\n",
      "No\n",
      "error LR: 0.641345202922821\n",
      "error RF: 0.5553798217773419\n",
      "error DT: 0.61500244140625\n",
      "error KNN: 0.740997314453125\n",
      "Sí\n",
      "error LR_T: 0.641345202922821\n",
      "error RF_T: 0.5553798217773419\n",
      "error DT_T: 0.61500244140625\n",
      "error KNN_T: 0.740997314453125\n",
      "****************************\n",
      "No\n",
      "error LR: 0.965087890625\n",
      "error RF: 0.8054667358398433\n",
      "error DT: 1.010009765625\n",
      "error KNN: 0.923602283000946\n",
      "Sí\n",
      "error LR_T: 0.965087890625\n",
      "error RF_T: 0.8054667358398433\n",
      "error DT_T: 1.010009765625\n",
      "error KNN_T: 0.923602283000946\n",
      "****************************\n",
      "No\n",
      "error LR: 0.672808825969696\n",
      "error RF: 0.7186379394531286\n",
      "error DT: 0.674993896484375\n",
      "error KNN: 0.594006359577179\n",
      "Sí\n",
      "error LR_T: 0.672808825969696\n",
      "error RF_T: 0.7186379394531286\n",
      "error DT_T: 0.674993896484375\n",
      "error KNN_T: 0.594006359577179\n",
      "****************************\n",
      "No\n",
      "error LR: 0.4609619081020355\n",
      "error RF: 0.6970355224609307\n",
      "error DT: 1.039996337890625\n",
      "error KNN: 0.5024048089981079\n",
      "Sí\n",
      "error LR_T: 0.4609619081020355\n",
      "error RF_T: 0.6970355224609307\n",
      "error DT_T: 1.039996337890625\n",
      "error KNN_T: 0.5024048089981079\n",
      "****************************\n",
      "No\n",
      "error LR: 0.3259338438510895\n",
      "error RF: 0.3037164916992083\n",
      "error DT: 0.25999755859375\n",
      "error KNN: 0.3359924256801605\n",
      "Sí\n",
      "error LR_T: 0.3259338438510895\n",
      "error RF_T: 0.3037164916992083\n",
      "error DT_T: 0.25999755859375\n",
      "error KNN_T: 0.3359924256801605\n",
      "****************************\n",
      "No\n",
      "error LR: 0.3055419921875\n",
      "error RF: 0.3310213012695158\n",
      "error DT: 0.65499267578125\n",
      "error KNN: 0.931793212890625\n",
      "Sí\n",
      "error LR_T: 0.3055419921875\n",
      "error RF_T: 0.3310213012695158\n",
      "error DT_T: 0.65499267578125\n",
      "error KNN_T: 0.931793212890625\n",
      "****************************\n",
      "No\n",
      "error LR: 0.43867188692092896\n",
      "error RF: 0.48858209228516214\n",
      "error DT: 0.637493896484375\n",
      "error KNN: 0.516510009765625\n",
      "Sí\n",
      "error LR_T: 0.43867188692092896\n",
      "error RF_T: 0.48858209228516214\n",
      "error DT_T: 0.637493896484375\n",
      "error KNN_T: 0.516510009765625\n",
      "****************************\n",
      "No\n",
      "error LR: 0.392059326171875\n",
      "error RF: 0.40334417724610605\n",
      "error DT: 0.985003662109375\n",
      "error KNN: 0.576586902141571\n",
      "Sí\n",
      "error LR_T: 0.392059326171875\n",
      "error RF_T: 0.40334417724610605\n",
      "error DT_T: 0.985003662109375\n",
      "error KNN_T: 0.576586902141571\n",
      "****************************\n",
      "No\n",
      "error LR: 0.38848876953125\n",
      "error RF: 0.5552626953125014\n",
      "error DT: 1.08499755859375\n",
      "error KNN: 0.929003894329071\n",
      "Sí\n",
      "error LR_T: 0.38848876953125\n",
      "error RF_T: 0.5552626953125014\n",
      "error DT_T: 1.08499755859375\n",
      "error KNN_T: 0.929003894329071\n",
      "****************************\n",
      "No\n",
      "error LR: 0.24127197265625\n",
      "error RF: 0.2609815063476503\n",
      "error DT: 0.565008544921875\n",
      "error KNN: 0.5065978765487671\n",
      "Sí\n",
      "error LR_T: 0.24127197265625\n",
      "error RF_T: 0.2609815063476503\n",
      "error DT_T: 0.565008544921875\n",
      "error KNN_T: 0.5065978765487671\n",
      "****************************\n",
      "No\n",
      "error LR: 0.4450439512729645\n",
      "error RF: 0.5611806030273442\n",
      "error DT: 0.6344970703125\n",
      "error KNN: 0.5445007085800171\n",
      "Sí\n",
      "error LR_T: 0.4450439512729645\n",
      "error RF_T: 0.5611806030273442\n",
      "error DT_T: 0.6344970703125\n",
      "error KNN_T: 0.5445007085800171\n",
      "****************************\n"
     ]
    }
   ],
   "source": [
    "for day in days:\n",
    "    selected_points = select_points(points)\n",
    "    index_sel = get_selected_points_indx(selected_points, points)\n",
    "    X_day = X_test[day]\n",
    "    Y_day = Y_test[day]\n",
    "    print('No')\n",
    "    Y_pred = LR.predict([X_day])[0]\n",
    "    print(f'error LR: {mean_absolute_error(y_true=Y_day[index_sel], y_pred=Y_pred[index_sel])}')\n",
    "    list_pd.append(['LR','NO',mean_absolute_error(y_true=Y_day[index_sel], y_pred=Y_pred[index_sel])])\n",
    "    Y_pred = RF.predict([X_day])[0]\n",
    "    print(f'error RF: {mean_absolute_error(y_true=Y_day[index_sel], y_pred=Y_pred[index_sel])}')\n",
    "    list_pd.append(['RF','NO',mean_absolute_error(y_true=Y_day[index_sel], y_pred=Y_pred[index_sel])])\n",
    "    Y_pred = DT.predict([X_day])[0]\n",
    "    print(f'error DT: {mean_absolute_error(y_true=Y_day[index_sel], y_pred=Y_pred[index_sel])}')\n",
    "    list_pd.append(['DT','NO',mean_absolute_error(y_true=Y_day[index_sel], y_pred=Y_pred[index_sel])])\n",
    "    Y_pred = KNN.predict([X_day])[0]\n",
    "    print(f'error KNN: {mean_absolute_error(y_true=Y_day[index_sel], y_pred=Y_pred[index_sel])}')\n",
    "    list_pd.append(['KNN','NO',mean_absolute_error(y_true=Y_day[index_sel], y_pred=Y_pred[index_sel])])\n",
    "    print('Sí')\n",
    "    Y_pred_T = LR.predict([X_day])[0]\n",
    "    print(f'error LR_T: {mean_absolute_error(y_true=Y_day[index_sel], y_pred=Y_pred_T[index_sel])}')\n",
    "    list_pd.append(['LR','SI',mean_absolute_error(y_true=Y_day[index_sel], y_pred=Y_pred_T[index_sel])])\n",
    "    Y_pred_T = RF.predict([X_day])[0]\n",
    "    print(f'error RF_T: {mean_absolute_error(y_true=Y_day[index_sel], y_pred=Y_pred_T[index_sel])}')\n",
    "    list_pd.append(['RF','SI',mean_absolute_error(y_true=Y_day[index_sel], y_pred=Y_pred_T[index_sel])])\n",
    "    Y_pred_T = DT.predict([X_day])[0]\n",
    "    print(f'error DT_T: {mean_absolute_error(y_true=Y_day[index_sel], y_pred=Y_pred_T[index_sel])}')\n",
    "    list_pd.append(['DT','SI',mean_absolute_error(y_true=Y_day[index_sel], y_pred=Y_pred_T[index_sel])])\n",
    "    Y_pred_T = KNN.predict([X_day])[0]\n",
    "    print(f'error KNN_T: {mean_absolute_error(y_true=Y_day[index_sel], y_pred=Y_pred_T[index_sel])}')\n",
    "    list_pd.append(['KNN','SI',mean_absolute_error(y_true=Y_day[index_sel], y_pred=Y_pred_T[index_sel])])\n",
    "    print('****************************')"
   ]
  },
  {
   "cell_type": "code",
   "execution_count": 148,
   "id": "75487af7",
   "metadata": {},
   "outputs": [],
   "source": [
    "import pandas as pd"
   ]
  },
  {
   "cell_type": "code",
   "execution_count": 150,
   "id": "1ccedbac",
   "metadata": {},
   "outputs": [
    {
     "data": {
      "text/html": [
       "<div>\n",
       "<style scoped>\n",
       "    .dataframe tbody tr th:only-of-type {\n",
       "        vertical-align: middle;\n",
       "    }\n",
       "\n",
       "    .dataframe tbody tr th {\n",
       "        vertical-align: top;\n",
       "    }\n",
       "\n",
       "    .dataframe thead th {\n",
       "        text-align: right;\n",
       "    }\n",
       "</style>\n",
       "<table border=\"1\" class=\"dataframe\">\n",
       "  <thead>\n",
       "    <tr style=\"text-align: right;\">\n",
       "      <th></th>\n",
       "      <th>A</th>\n",
       "      <th>B</th>\n",
       "      <th>y</th>\n",
       "    </tr>\n",
       "  </thead>\n",
       "  <tbody>\n",
       "    <tr>\n",
       "      <th>0</th>\n",
       "      <td>LR</td>\n",
       "      <td>NO</td>\n",
       "      <td>0.509082</td>\n",
       "    </tr>\n",
       "    <tr>\n",
       "      <th>1</th>\n",
       "      <td>RF</td>\n",
       "      <td>NO</td>\n",
       "      <td>0.339977</td>\n",
       "    </tr>\n",
       "    <tr>\n",
       "      <th>2</th>\n",
       "      <td>DT</td>\n",
       "      <td>NO</td>\n",
       "      <td>0.850006</td>\n",
       "    </tr>\n",
       "    <tr>\n",
       "      <th>3</th>\n",
       "      <td>KNN</td>\n",
       "      <td>NO</td>\n",
       "      <td>0.726801</td>\n",
       "    </tr>\n",
       "    <tr>\n",
       "      <th>4</th>\n",
       "      <td>LR</td>\n",
       "      <td>SI</td>\n",
       "      <td>0.509082</td>\n",
       "    </tr>\n",
       "    <tr>\n",
       "      <th>...</th>\n",
       "      <td>...</td>\n",
       "      <td>...</td>\n",
       "      <td>...</td>\n",
       "    </tr>\n",
       "    <tr>\n",
       "      <th>187</th>\n",
       "      <td>KNN</td>\n",
       "      <td>NO</td>\n",
       "      <td>0.544501</td>\n",
       "    </tr>\n",
       "    <tr>\n",
       "      <th>188</th>\n",
       "      <td>LR</td>\n",
       "      <td>SI</td>\n",
       "      <td>0.445044</td>\n",
       "    </tr>\n",
       "    <tr>\n",
       "      <th>189</th>\n",
       "      <td>RF</td>\n",
       "      <td>SI</td>\n",
       "      <td>0.561181</td>\n",
       "    </tr>\n",
       "    <tr>\n",
       "      <th>190</th>\n",
       "      <td>DT</td>\n",
       "      <td>SI</td>\n",
       "      <td>0.634497</td>\n",
       "    </tr>\n",
       "    <tr>\n",
       "      <th>191</th>\n",
       "      <td>KNN</td>\n",
       "      <td>SI</td>\n",
       "      <td>0.544501</td>\n",
       "    </tr>\n",
       "  </tbody>\n",
       "</table>\n",
       "<p>192 rows × 3 columns</p>\n",
       "</div>"
      ],
      "text/plain": [
       "       A   B         y\n",
       "0     LR  NO  0.509082\n",
       "1     RF  NO  0.339977\n",
       "2     DT  NO  0.850006\n",
       "3    KNN  NO  0.726801\n",
       "4     LR  SI  0.509082\n",
       "..   ...  ..       ...\n",
       "187  KNN  NO  0.544501\n",
       "188   LR  SI  0.445044\n",
       "189   RF  SI  0.561181\n",
       "190   DT  SI  0.634497\n",
       "191  KNN  SI  0.544501\n",
       "\n",
       "[192 rows x 3 columns]"
      ]
     },
     "execution_count": 150,
     "metadata": {},
     "output_type": "execute_result"
    }
   ],
   "source": [
    "df = pd.DataFrame(list_pd,columns=['A','B','y'])\n",
    "df"
   ]
  },
  {
   "cell_type": "code",
   "execution_count": 155,
   "id": "be0db739",
   "metadata": {},
   "outputs": [],
   "source": [
    "df.to_excel('results.xlsx', index=None)"
   ]
  },
  {
   "cell_type": "code",
   "execution_count": null,
   "id": "05afd4a6",
   "metadata": {},
   "outputs": [],
   "source": [
    "for day in days:\n",
    "    X_day = X_test[day]\n",
    "    Y_day = Y_test[day]\n",
    "    Y_pred = LR.predict([X_day])[0]\n",
    "    selected_points = select_points(points)\n",
    "    index_sel = get_selected_points_indx(selected_points, points)\n",
    "    print(index_sel)\n",
    "    print(mean_absolute_error(y_true=Y_day[index_sel], y_pred=Y_pred[index_sel]))"
   ]
  },
  {
   "cell_type": "code",
   "execution_count": null,
   "id": "06408f30",
   "metadata": {},
   "outputs": [],
   "source": []
  },
  {
   "cell_type": "code",
   "execution_count": null,
   "id": "fdad527c",
   "metadata": {},
   "outputs": [],
   "source": []
  },
  {
   "cell_type": "code",
   "execution_count": null,
   "id": "6180cfe8",
   "metadata": {},
   "outputs": [],
   "source": []
  },
  {
   "cell_type": "code",
   "execution_count": null,
   "id": "71d053b4",
   "metadata": {},
   "outputs": [],
   "source": []
  }
 ],
 "metadata": {
  "kernelspec": {
   "display_name": "Python 3 (ipykernel)",
   "language": "python",
   "name": "python3"
  },
  "language_info": {
   "codemirror_mode": {
    "name": "ipython",
    "version": 3
   },
   "file_extension": ".py",
   "mimetype": "text/x-python",
   "name": "python",
   "nbconvert_exporter": "python",
   "pygments_lexer": "ipython3",
   "version": "3.10.11"
  }
 },
 "nbformat": 4,
 "nbformat_minor": 5
}
