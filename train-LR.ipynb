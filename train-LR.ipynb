{
 "cells": [
  {
   "cell_type": "code",
   "execution_count": 1,
   "id": "006ebbbf",
   "metadata": {},
   "outputs": [],
   "source": [
    "#train\n",
    "import numpy as np\n",
    "from sklearn.multioutput import MultiOutputRegressor\n",
    "from sklearn.linear_model import LinearRegression\n",
    "from sklearn.metrics import mean_absolute_error, mean_absolute_percentage_error\n",
    "from sklearn.model_selection import GridSearchCV"
   ]
  },
  {
   "cell_type": "code",
   "execution_count": 2,
   "id": "4e4cea22",
   "metadata": {},
   "outputs": [
    {
     "data": {
      "text/plain": [
       "array([[297.3    , 297.71   , 297.59998, ..., 298.3    , 298.9    ,\n",
       "        300.09998],\n",
       "       [298.09998, 298.     , 298.21   , ..., 297.81   , 299.59998,\n",
       "        301.5    ],\n",
       "       [298.8    , 299.     , 299.21   , ..., 299.3    , 299.9    ,\n",
       "        301.     ],\n",
       "       ...,\n",
       "       [298.9    , 299.1    , 299.3    , ..., 300.1    , 299.3    ,\n",
       "        299.5    ],\n",
       "       [299.6    , 300.2    , 300.2    , ..., 298.9    , 298.3    ,\n",
       "        298.5    ],\n",
       "       [300.4    , 300.4    , 300.2    , ..., 299.30002, 299.30002,\n",
       "        300.1    ]], dtype=float32)"
      ]
     },
     "execution_count": 2,
     "metadata": {},
     "output_type": "execute_result"
    }
   ],
   "source": [
    "X = np.load('np-array-h0.npy')\n",
    "X"
   ]
  },
  {
   "cell_type": "code",
   "execution_count": 3,
   "id": "70310bbe",
   "metadata": {},
   "outputs": [
    {
     "data": {
      "text/plain": [
       "array([[298.     , 298.3    , 298.09998, ..., 297.21   , 297.8    ,\n",
       "        298.4    ],\n",
       "       [298.     , 298.31   , 298.4    , ..., 296.71   , 297.59998,\n",
       "        298.59998],\n",
       "       [298.09998, 298.5    , 298.8    , ..., 298.7    , 299.2    ,\n",
       "        300.09998],\n",
       "       ...,\n",
       "       [299.     , 299.80002, 300.     , ..., 298.1    , 297.6    ,\n",
       "        297.5    ],\n",
       "       [299.9    , 300.4    , 300.2    , ..., 297.1    , 296.9    ,\n",
       "        297.1    ],\n",
       "       [300.19998, 300.5    , 300.1    , ..., 296.69998, 297.     ,\n",
       "        297.5    ]], dtype=float32)"
      ]
     },
     "execution_count": 3,
     "metadata": {},
     "output_type": "execute_result"
    }
   ],
   "source": [
    "Y = np.load('np-array-h6.npy')\n",
    "Y"
   ]
  },
  {
   "cell_type": "code",
   "execution_count": 6,
   "id": "7bb1a7ad",
   "metadata": {},
   "outputs": [],
   "source": [
    "X_test = np.load('np-array-h0-2023.npy')\n",
    "Y_test = np.load('np-array-h6-2023.npy')"
   ]
  },
  {
   "cell_type": "code",
   "execution_count": 7,
   "id": "d32f80a6",
   "metadata": {},
   "outputs": [
    {
     "name": "stdout",
     "output_type": "stream",
     "text": [
      "R^2: 0.5665391437294972\n",
      "MAE: 0.5008983016014099\n",
      "MAPE: 0.0016757517587393522\n"
     ]
    }
   ],
   "source": [
    "model = MultiOutputRegressor(LinearRegression())\n",
    "model.fit(X,Y)\n",
    "print(f'R^2: {model.score(X_test,Y_test)}')\n",
    "print(f'MAE: {mean_absolute_error(Y_test,model.predict(X_test))}')\n",
    "print(f'MAPE: {mean_absolute_percentage_error(Y_test,model.predict(X_test))}')"
   ]
  },
  {
   "cell_type": "code",
   "execution_count": 8,
   "id": "081fca61",
   "metadata": {},
   "outputs": [],
   "source": [
    "# Definir los hiperparámetros a ajustar\n",
    "param_grid = {\n",
    "    'estimator__fit_intercept': [True, False],\n",
    "    'estimator__copy_X': [True, False],\n",
    "    'estimator__positive': [True, False],\n",
    "}\n",
    "\n",
    "# Crear el modelo\n",
    "model = MultiOutputRegressor(LinearRegression(n_jobs=-1))\n",
    "# Realizar GridSearchCV\n",
    "grid_search = GridSearchCV(model, param_grid, cv=5, scoring='neg_mean_absolute_error')\n",
    "grid_search.fit(X, Y)\n",
    "\n",
    "# Obtener los mejores hiperparámetros y el mejor modelo\n",
    "best_params = grid_search.best_params_\n",
    "best_model = grid_search.best_estimator_"
   ]
  },
  {
   "cell_type": "code",
   "execution_count": 9,
   "id": "0090fe3b",
   "metadata": {},
   "outputs": [
    {
     "data": {
      "text/plain": [
       "{'estimator__copy_X': True,\n",
       " 'estimator__fit_intercept': True,\n",
       " 'estimator__positive': False}"
      ]
     },
     "execution_count": 9,
     "metadata": {},
     "output_type": "execute_result"
    }
   ],
   "source": [
    "best_params"
   ]
  },
  {
   "cell_type": "code",
   "execution_count": 77,
   "id": "75a204ec",
   "metadata": {},
   "outputs": [
    {
     "name": "stdout",
     "output_type": "stream",
     "text": [
      "R^2: 0.42278006902381277\n",
      "MAE: 0.5811184754846183\n",
      "MAPE: 0.0019439743919084324\n"
     ]
    }
   ],
   "source": [
    "model = MultiOutputRegressor(KNeighborsRegressor(n_neighbors=11, algorithm='brute',leaf_size=25, metric='euclidean', p=1, weights='distance'))\n",
    "model.fit(X,Y)\n",
    "print(f'R^2: {model.score(X_test,Y_test)}')\n",
    "print(f'MAE: {mean_absolute_error(Y_test,model.predict(X_test))}')\n",
    "print(f'MAPE: {mean_absolute_percentage_error(Y_test,model.predict(X_test))}')"
   ]
  },
  {
   "cell_type": "code",
   "execution_count": null,
   "id": "ae00be09",
   "metadata": {},
   "outputs": [],
   "source": [
    "# Definir los hiperparámetros a ajustar\n",
    "param_grid_DT = {\n",
    "    'estimator__criterion': ['squared_error','friedman_mse', 'absolute_error', 'poisson'],\n",
    "    'estimator__splitter': ['best', 'random'],\n",
    "    'estimator__max_depth': [None,10, 20, 30],\n",
    "    'estimator__min_samples_split':[2,4,6],\n",
    "    'estimator__min_samples_leaf': [1,2,3],\n",
    "}\n"
   ]
  },
  {
   "cell_type": "code",
   "execution_count": null,
   "id": "593d0054",
   "metadata": {},
   "outputs": [],
   "source": [
    "# Crear el modelo\n",
    "model = MultiOutputRegressor(KNeighborsRegressor(n_jobs=-1))\n",
    "# Realizar GridSearchCV\n",
    "grid_search = GridSearchCV(model, param_grid, cv=5, scoring='neg_mean_absolute_error')\n",
    "grid_search.fit(X, Y)\n",
    "\n",
    "# Obtener los mejores hiperparámetros y el mejor modelo\n",
    "best_params = grid_search.best_params_\n",
    "best_model = grid_search.best_estimator_"
   ]
  }
 ],
 "metadata": {
  "kernelspec": {
   "display_name": "Python 3 (ipykernel)",
   "language": "python",
   "name": "python3"
  },
  "language_info": {
   "codemirror_mode": {
    "name": "ipython",
    "version": 3
   },
   "file_extension": ".py",
   "mimetype": "text/x-python",
   "name": "python",
   "nbconvert_exporter": "python",
   "pygments_lexer": "ipython3",
   "version": "3.10.11"
  }
 },
 "nbformat": 4,
 "nbformat_minor": 5
}
